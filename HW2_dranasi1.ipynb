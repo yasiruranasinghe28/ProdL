{
  "cells": [
    {
      "cell_type": "markdown",
      "metadata": {
        "id": "view-in-github",
        "colab_type": "text"
      },
      "source": [
        "<a href=\"https://colab.research.google.com/github/yasiruranasinghe28/ProdL/blob/master/HW2_dranasi1.ipynb\" target=\"_parent\"><img src=\"https://colab.research.google.com/assets/colab-badge.svg\" alt=\"Open In Colab\"/></a>"
      ]
    },
    {
      "cell_type": "code",
      "execution_count": 1,
      "id": "9e5506f1",
      "metadata": {
        "id": "9e5506f1",
        "colab": {
          "base_uri": "https://localhost:8080/"
        },
        "outputId": "051e5e5a-cbcc-4282-eefa-28799c7bdb21"
      },
      "outputs": [
        {
          "output_type": "stream",
          "name": "stdout",
          "text": [
            "Drive already mounted at /content/drive; to attempt to forcibly remount, call drive.mount(\"/content/drive\", force_remount=True).\n"
          ]
        }
      ],
      "source": [
        "# You may need to run \"pip3 install scikit-image\"\n",
        "import matplotlib.pyplot as plt\n",
        "from skimage.transform import rescale, resize\n",
        "from scipy.signal import convolve2d\n",
        "from skimage.io import imread\n",
        "import numpy as np\n",
        "import os\n",
        "\n",
        "# You may not import any other libraries.\n",
        "\n",
        "from google.colab import drive\n",
        "drive.mount('/content/drive')"
      ]
    },
    {
      "cell_type": "markdown",
      "id": "4f4a4ac7",
      "metadata": {
        "id": "4f4a4ac7"
      },
      "source": [
        "# HOMEWORK 2\n",
        "\n",
        "## Problem 1: Simple Face Detector\n",
        "\n",
        "Implement a simple face detector that can detect faces in group photos of people.\n"
      ]
    },
    {
      "cell_type": "code",
      "execution_count": 2,
      "id": "a625563b",
      "metadata": {
        "id": "a625563b"
      },
      "outputs": [],
      "source": [
        "# Data path for the homework\n",
        "DataPath = '/content/drive/MyDrive/Colab Notebooks/MLSP HW 2/data'\n",
        "ResultPath = '/content/drive/MyDrive/Colab Notebooks/MLSP HW 2/results'\n",
        "\n",
        "# Create the results folder if not exists\n",
        "os.mkdir(ResultPath) if not os.path.exists(ResultPath) else None"
      ]
    },
    {
      "cell_type": "code",
      "source": [
        "# Make or change directory\n",
        "def get_directory(folder_name):\n",
        "  \n",
        "  # Check if the path exists and change\n",
        "  if not os.path.exists(os.path.join(DataPath, folder_name)):\n",
        "    raise Exception(\"Add the {} folder to the data folder\".format(folder_name))\n",
        "  else:\n",
        "    os.chdir(os.path.join(DataPath, folder_name))\n",
        "\n",
        "\n",
        "# Get the file names in the folder\n",
        "def get_file_names(format='.pgm'):\n",
        "\n",
        "  files = []\n",
        "  for file_name in os.listdir():\n",
        "    # Check only .pgm files\n",
        "    files.append(file_name) if file_name.endswith(format) else None\n",
        "  # Sort the file names alphabetically\n",
        "  files.sort()\n",
        "\n",
        "  return files\n",
        "\n",
        "\n",
        "# Import the images for a given file name\n",
        "def import_file(file_name):\n",
        "\n",
        "  # Import the image\n",
        "  file_path = os.path.join(os.getcwd(), file_name)\n",
        "  file_image = imread(file_path, as_gray=True)\n",
        "\n",
        "  # Normalize the image between 0 and 1\n",
        "  file_image = file_image/255 if np.max(file_image) > 1 else file_image\n",
        "\n",
        "  return file_image\n",
        "\n",
        "\n",
        "# Import the images for a given folder name\n",
        "def import_folder(file_names):\n",
        "\n",
        "  folder_images = []\n",
        "  # Iterate over the file names and import image\n",
        "  for index, file_name in enumerate(file_names):\n",
        "    \n",
        "    # Print the range of importing folder files\n",
        "    if index % 100 == 0:\n",
        "      max_digits = 1 + int(np.floor(np.log10(len(file_names))))\n",
        "      print(str(max_digits).join(['Importing the {:0','.0f} to {:0','.0f} images']).\n",
        "            format(index+1, np.min([index+100, len(file_names)])))\n",
        "      \n",
        "    file_image = import_file(file_name)\n",
        "    file_image = np.asarray(file_image).astype('float64')\n",
        "    # Append to the image cube\n",
        "    folder_images.append(file_image)\n",
        "\n",
        "  # Convert the list into an array\n",
        "  folder_images = np.asarray(folder_images)\n",
        "\n",
        "  return folder_images\n",
        "\n",
        "\n",
        "# Plot the 2D image of a given array\n",
        "def plot_face(face_array):\n",
        "  # Check the dimensions of the face array\n",
        "  try:\n",
        "    face = face_array.reshape(height, width)\n",
        "  except ValueError:\n",
        "    raise Exception(\"Image dimensions are incompatible\")\n",
        "  \n",
        "  # Plot the face\n",
        "  plt.imshow(face)\n",
        "\n",
        "\n",
        "# Mean normalize the training dataset\n",
        "def mean_normalize(dataset, mean=None):\n",
        "\n",
        "  # Compute the mean for the train dataset\n",
        "  if mean == None:\n",
        "    mean = np.mean(dataset, axis=0)\n",
        "\n",
        "  # Remove the mean from the dataset\n",
        "  dataset -= mean\n",
        "\n",
        "  return dataset, mean\n",
        "\n",
        "\n",
        "# Compute the eigenfaces of the images\n",
        "def compute_eigen_faces(dataset):\n",
        "  \n",
        "  # Check the arangement of the dataset\n",
        "  \"\"\"\n",
        "  Rows: pixel position\n",
        "  Columns: individual faces\n",
        "  \"\"\"\n",
        "  dataset = dataset.reshape(dataset.shape[0],-1).T\n",
        "  \n",
        "  print('\\nComputing the eigen faces')\n",
        "\n",
        "  # Perform singular value decomposition on the 2D array\n",
        "  U, _, _ = np.linalg.svd(dataset, full_matrices=True)\n",
        "\n",
        "  # Reshape the eigen faces array as a cube\n",
        "  U = U.T.reshape(-1,height,width)[:train_size]\n",
        "\n",
        "  return U\n",
        "\n",
        "\n",
        "# Format the images by removing axis ticks and titles\n",
        "def format_image(ax, title):\n",
        "  ax.set_title(title)\n",
        "  ax.get_xaxis().set_ticks([])\n",
        "  ax.get_yaxis().set_ticks([])\n",
        "\n",
        "\n",
        "# Save figures in given folders\n",
        "def save_image(figure, folder, file):\n",
        "\n",
        "  # Check if the folder exists if not create\n",
        "  if not os.path.exists(os.path.join(ResultPath, folder)):\n",
        "    os.mkdir(os.path.join(ResultPath, folder))\n",
        "    os.chdir(os.path.join(ResultPath, folder))\n",
        "  else:\n",
        "    os.chdir(os.path.join(ResultPath, folder))\n",
        "\n",
        "  format = 'png'\n",
        "  # Save the figure in the folder\n",
        "  figure.savefig('.'.join([file,format]), format=format)"
      ],
      "metadata": {
        "id": "zK0H4c3iz7H6"
      },
      "id": "zK0H4c3iz7H6",
      "execution_count": 3,
      "outputs": []
    },
    {
      "cell_type": "code",
      "source": [
        "# Read the face images for the training dataset\n",
        "folder_name = 'lfw_1000'\n",
        "\n",
        "# Check if the training folder is added to the data path\n",
        "# If 'Yes' change the working director to training data folder\n",
        "get_directory(folder_name)\n",
        "\n",
        "# Get the file names in the training dataset\n",
        "files = get_file_names()\n",
        "\n",
        "# Get the training images\n",
        "train_dataset = import_folder(files)\n",
        "\n",
        "# Declare train_size, height and width as global variables\n",
        "global train_size, height, width\n",
        "train_size, height, width = train_dataset.shape\n",
        "\n",
        "# Mean normalize the train dataset and save the mean face\n",
        "train_dataset, mean_face = mean_normalize(train_dataset)\n",
        "\n",
        "# Compute the eigen faces for the train dataset\n",
        "eigen_faces = compute_eigen_faces(train_dataset)\n",
        "\n",
        "# Plot the first eigen face and save\n",
        "prime_face = eigen_faces[0] if np.max(eigen_faces[0]) > 0 else -eigen_faces[0]\n",
        "fig1, ax = plt.subplots(nrows=1, ncols=1, figsize=(4,4))\n",
        "ax.imshow(prime_face, cmap='binary_r')\n",
        "format_image(ax, 'First eigen face')\n",
        "save_image(fig1, file='First eigen face',\n",
        "           folder='problem 1')\n",
        "\n",
        "# Eigen faces are computed and the first eigen face is stored in results\n",
        "\n",
        "\n",
        "# Read the face images for the training dataset\n",
        "folder_name = 'groups'\n",
        "\n",
        "# Check if the training folder is added to the data path\n",
        "# If 'Yes' change the working director to training data folder\n",
        "get_directory(folder_name)\n",
        "\n",
        "# Get the file names in the training dataset\n",
        "files = get_file_names()\n",
        "\n",
        "# Get the training images\n",
        "test_dataset = import_folder(files)"
      ],
      "metadata": {
        "colab": {
          "base_uri": "https://localhost:8080/",
          "height": 494
        },
        "id": "X3aKXblpt1lR",
        "outputId": "36a6a876-ca61-46c7-aca3-59c2180e3802"
      },
      "id": "X3aKXblpt1lR",
      "execution_count": 4,
      "outputs": [
        {
          "output_type": "stream",
          "name": "stdout",
          "text": [
            "Importing the 0001 to 0100 images\n",
            "Importing the 0101 to 0200 images\n",
            "Importing the 0201 to 0300 images\n",
            "Importing the 0301 to 0400 images\n",
            "Importing the 0401 to 0500 images\n",
            "Importing the 0501 to 0600 images\n",
            "Importing the 0601 to 0700 images\n",
            "Importing the 0701 to 0800 images\n",
            "Importing the 0801 to 0900 images\n",
            "Importing the 0901 to 1000 images\n",
            "Importing the 1001 to 1071 images\n",
            "\n",
            "Computing the eigen faces\n"
          ]
        },
        {
          "output_type": "display_data",
          "data": {
            "text/plain": [
              "<Figure size 288x288 with 1 Axes>"
            ],
            "image/png": "[encoded data removed]"
          },
          "metadata": {}
        }
      ]
    },
    {
      "cell_type": "code",
      "source": [
        "# Scale the eigen face\n",
        "def scale_face(prime_face, scaling_factor=1):\n",
        "\n",
        "  # Scale the eigen face\n",
        "  scale_face = rescale(prime_face, scale=scaling_factor, anti_aliasing=True)\n",
        "  scale_face = scale_face/np.sum(scale_face**2)\n",
        "\n",
        "  return scale_face\n",
        "\n",
        "\n",
        "# Compute parameters for the effect of the mean face \n",
        "def compute_mean_affects(mean_face, kernel):\n",
        "\n",
        "  # Compute the effect for the kernel convolution\n",
        "  mean_kernel_power = convolve2d(in1=mean_face,\n",
        "                                 in2=np.fliplr(np.flipud(prime_face)),\n",
        "                                 mode='valid')\n",
        "\n",
        "  # Compute the effect for the power convolution\n",
        "  mean_power = convolve2d(in1=mean_face**2,\n",
        "                          in2=np.ones_like(kernel),\n",
        "                          mode='valid')\n",
        "  mean_power = np.sqrt(mean_power)\n",
        "\n",
        "  return mean_kernel_power, mean_power\n",
        "\n",
        "\n",
        "# Compute the match score between mean shifted image and scaled eigen face\n",
        "def compute_score(input_image, kernel, mean_kernel, mean_score, mean_power):\n",
        "\n",
        "  # Perform convolution with the face template\n",
        "  score_matrix = convolve2d(in1=input_image,\n",
        "                          in2=np.fliplr(np.flipud(kernel)),\n",
        "                          mode='same'\n",
        "                          )  \n",
        "  \n",
        "  # Compute the power of each image patch\n",
        "  image_power = convolve2d(in1=input_image**2,\n",
        "                          in2=np.ones_like(kernel),\n",
        "                          mode='same'\n",
        "                          )\n",
        "  # Compute the average of the each image patch\n",
        "  image_average = convolve2d(in1=input_image,\n",
        "                          in2=np.ones_like(kernel),\n",
        "                          mode='same'\n",
        "                          )\n",
        "  \n",
        "  # Compute the correlation between scaled mean face and image\n",
        "  mean_image_corr = convolve2d(in1=input_image,\n",
        "                               in2=np.fliplr(np.flipud(mean_kernel)),\n",
        "                               mode='same'\n",
        "                               )\n",
        "  \n",
        "  # Compute the normalization factor for each patch due to image power and mean face affect\n",
        "  # norm_image = np.sqrt(image_power - 2*mean_image_corr + mean_power**2) + 1e-8\n",
        "  norm_image = np.sqrt(image_power) + 1e-8\n",
        "\n",
        "  # Normalize each patch of the score matrix by the image length for the patch\n",
        "  # score_matrix = (score_matrix-mean_score)/norm_image\n",
        "  score_matrix = score_matrix/norm_image\n",
        "\n",
        "  return score_matrix\n",
        "\n",
        "\n",
        "# Compute the match scores across all scales for the test image\n",
        "def get_match_scores(test_image, prime_face, scale_factors,\n",
        "                     mean_score, mean_power):\n",
        "\n",
        "  match_scores = []\n",
        "  for scaling_factor in scale_factors:\n",
        "\n",
        "    print('Computing the scores for the scale factor {:.2f}'.format(scaling_factor))\n",
        "    # Construct the normalized scaled eigen face\n",
        "    scale_prime_face = scale_face(prime_face, scaling_factor=1/scaling_factor)\n",
        "    # Construct the scaled mean face\n",
        "    scale_mean_face = rescale(prime_face, scale=1/scaling_factor, anti_aliasing=True)\n",
        "\n",
        "    # Compute match scores for the image\n",
        "    match_score = compute_score(test_image, scale_prime_face,\n",
        "                                scale_mean_face, mean_score, mean_power)\n",
        "    # append the match_scores\n",
        "    match_scores.append(match_score)\n",
        "  \n",
        "  match_scores = np.asarray(match_scores)\n",
        "\n",
        "  return match_scores"
      ],
      "metadata": {
        "id": "YwTNUnjiZ-ja"
      },
      "id": "YwTNUnjiZ-ja",
      "execution_count": 5,
      "outputs": []
    },
    {
      "cell_type": "code",
      "source": [
        "# Read the face images for the training dataset\n",
        "folder_name = 'groups'\n",
        "\n",
        "# Check if the training folder is added to the data path\n",
        "# If 'Yes' change the working director to training data folder\n",
        "get_directory(folder_name)\n",
        "\n",
        "# Get the file names in the training dataset\n",
        "files = get_file_names(format='.jpg')\n",
        "\n",
        "# Compute the mean face affect\n",
        "# mean_score, mean_power = compute_mean_affects(mean_face, prime_face)\n",
        "\n",
        "# Perform the face detection for each group image\n",
        "for file in files[2:]:\n",
        "\n",
        "  # Import the image\n",
        "  test_image = import_file(file)\n",
        "\n",
        "  # Scale factors\n",
        "  scale_factors = [0.5, 0.75, 1, 1.5, 2]\n",
        "  match_scores = get_match_scores(test_image, prime_face,\n",
        "                                  scale_factors,\n",
        "                                  mean_score, mean_power\n",
        "                                  )\n",
        "\n",
        "  print(match_scores.shape)\n",
        "  break"
      ],
      "metadata": {
        "colab": {
          "base_uri": "https://localhost:8080/",
          "height": 253
        },
        "id": "XRRIwb29W_dd",
        "outputId": "3eca1e8f-fb62-4a05-d1d0-905395e2691d"
      },
      "id": "XRRIwb29W_dd",
      "execution_count": 6,
      "outputs": [
        {
          "output_type": "stream",
          "name": "stdout",
          "text": [
            "Test image is imported.\n"
          ]
        },
        {
          "output_type": "error",
          "ename": "NameError",
          "evalue": "ignored",
          "traceback": [
            "\u001b[0;31m---------------------------------------------------------------------------\u001b[0m",
            "\u001b[0;31mNameError\u001b[0m                                 Traceback (most recent call last)",
            "\u001b[0;32m<ipython-input-6-4f75537d140f>\u001b[0m in \u001b[0;36m<module>\u001b[0;34m\u001b[0m\n\u001b[1;32m     24\u001b[0m   match_scores = get_match_scores(test_image, prime_face,\n\u001b[1;32m     25\u001b[0m                                   \u001b[0mscale_factors\u001b[0m\u001b[0;34m,\u001b[0m\u001b[0;34m\u001b[0m\u001b[0;34m\u001b[0m\u001b[0m\n\u001b[0;32m---> 26\u001b[0;31m                                   \u001b[0mmean_score\u001b[0m\u001b[0;34m,\u001b[0m \u001b[0mmean_power\u001b[0m\u001b[0;34m\u001b[0m\u001b[0;34m\u001b[0m\u001b[0m\n\u001b[0m\u001b[1;32m     27\u001b[0m                                   )\n\u001b[1;32m     28\u001b[0m \u001b[0;34m\u001b[0m\u001b[0m\n",
            "\u001b[0;31mNameError\u001b[0m: name 'mean_score' is not defined"
          ]
        }
      ]
    },
    {
      "cell_type": "code",
      "source": [
        "for scores in match_scores:\n",
        "  plt.figure()\n",
        "  plt.imshow(scores, cmap='binary_r')\n",
        "\n",
        "plt.figure()\n",
        "plt.imshow(test_image, cmap='binary_r')\n",
        "\n",
        "# print(convolve2d(in1=mean_face,\n",
        "#            in2=np.fliplr(np.flipud(prime_face)),\n",
        "#            mode='valid'))\n",
        "\n",
        "# plt.hist(mean_face.reshape(-1))"
      ],
      "metadata": {
        "id": "NwlmBhy-oqkb"
      },
      "id": "NwlmBhy-oqkb",
      "execution_count": null,
      "outputs": []
    },
    {
      "cell_type": "markdown",
      "id": "e92d37e0",
      "metadata": {
        "id": "e92d37e0"
      },
      "source": [
        "## Problem 2: Boosting-based Face Detector\n",
        "\n",
        "Implement an Adaboost Classifier to classify between face images and non-face images.\n"
      ]
    },
    {
      "cell_type": "code",
      "execution_count": null,
      "id": "22e32323",
      "metadata": {
        "id": "22e32323"
      },
      "outputs": [],
      "source": []
    },
    {
      "cell_type": "markdown",
      "id": "40ac1e54",
      "metadata": {
        "id": "40ac1e54"
      },
      "source": [
        "## Problem 3: Gender Detector\n",
        "\n",
        "Implement a gender detection system using the PCA dimensions from images.\n"
      ]
    },
    {
      "cell_type": "code",
      "execution_count": null,
      "id": "e8af75fe",
      "metadata": {
        "id": "e8af75fe"
      },
      "outputs": [],
      "source": []
    }
  ],
  "metadata": {
    "kernelspec": {
      "display_name": "Python 3 (ipykernel)",
      "language": "python",
      "name": "python3"
    },
    "language_info": {
      "codemirror_mode": {
        "name": "ipython",
        "version": 3
      },
      "file_extension": ".py",
      "mimetype": "text/x-python",
      "name": "python",
      "nbconvert_exporter": "python",
      "pygments_lexer": "ipython3",
      "version": "3.9.12"
    },
    "colab": {
      "provenance": [],
      "include_colab_link": true
    }
  },
  "nbformat": 4,
  "nbformat_minor": 5
}